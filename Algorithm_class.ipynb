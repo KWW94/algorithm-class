{
 "cells": [
  {
   "cell_type": "markdown",
   "metadata": {},
   "source": [
    "# sort"
   ]
  },
  {
   "cell_type": "code",
   "execution_count": null,
   "metadata": {},
   "outputs": [],
   "source": [
    "def shell_sort(x):\n",
    "    gap = len(x)//2\n",
    "    while gap>0:\n",
    "        for start in range(gap):\n",
    "            insert_sort(x,start,gap)\n",
    "        #print(x)\n",
    "        gap = gap //2\n",
    "    return x\n",
    "\n",
    "def insert_sort(x, start, gap):\n",
    "    for i in range(start+gap, len(x), gap):\n",
    "        p=i # p = j+1\n",
    "        key = x[i]\n",
    "        while x[p-gap] > key and p >= gap:\n",
    "            x[p] = x[p-gap]\n",
    "            p = p - gap\n",
    "        x[p] = key\n",
    "    return x\n"
   ]
  },
  {
   "cell_type": "code",
   "execution_count": null,
   "metadata": {},
   "outputs": [],
   "source": [
    "def bucket_sort(x):\n",
    "    buckets = [[] for _ in range(len(x))]\n",
    "    for value in x:\n",
    "        bucket_index = value*len(x) // (max(x)+1)\n",
    "\n",
    "        buckets[bucket_index].append(value)\n",
    "    sorted_list =[]\n",
    "    for bucket in buckets:\n",
    "        #print(shell_sort(bucket))\n",
    "        sorted_list.extend(shell_sort(bucket))\n",
    "    return sorted_list"
   ]
  },
  {
   "cell_type": "code",
   "execution_count": null,
   "metadata": {},
   "outputs": [],
   "source": [
    "a =[12,3,14,23,1,32,32,4123,41,241212,5,234,534,6,34567,45,6,4355,234,321423,42,31,23,123,12,312]\n",
    "\n",
    "print(bucket_sort(a))\n",
    "print(shell_sort(a))"
   ]
  },
  {
   "cell_type": "markdown",
   "metadata": {},
   "source": [
    "# search"
   ]
  },
  {
   "cell_type": "code",
   "execution_count": null,
   "metadata": {},
   "outputs": [],
   "source": [
    "def search_list(x,v):\n",
    "    n = len(x)\n",
    "    for i in range(n):\n",
    "        if(x[i]==v):\n",
    "            return i\n",
    "    return -1"
   ]
  },
  {
   "cell_type": "code",
   "execution_count": null,
   "metadata": {},
   "outputs": [],
   "source": [
    "v =3\n",
    "a =[12,3,3,14,23,1,32,32,4123,41,241212,5,234,534,6,34567,45,6,4355,234,321423,42,31,23,123,12,312]\n",
    "\n",
    "%time\n",
    "print(search_list(a,v))"
   ]
  },
  {
   "cell_type": "code",
   "execution_count": null,
   "metadata": {},
   "outputs": [],
   "source": [
    "def binary_search(x, v):\n",
    "    start = 0\n",
    "    end = len(x) - 1\n",
    "    while start <= end:\n",
    "        mid = (start + end) // 2\n",
    "        print(\"start: \"+str(start))\n",
    "        print(\"mid: \"+str(mid))\n",
    "        print(\"end: \"+str(end))\n",
    "        if x[mid] == v:\n",
    "            return mid\n",
    "        elif x[mid] < v:\n",
    "            start = mid + 1\n",
    "        else:\n",
    "            end = mid - 1\n",
    "\n",
    "    return -1\n"
   ]
  },
  {
   "cell_type": "code",
   "execution_count": null,
   "metadata": {},
   "outputs": [],
   "source": [
    "a=list(range(100))\n",
    "v=[36,2,4,52,534,53,5]\n",
    "\n",
    "for i in v:\n",
    "    print(\"index: \"+str(binary_search(a,i)))"
   ]
  },
  {
   "cell_type": "markdown",
   "metadata": {},
   "source": [
    "# stack"
   ]
  },
  {
   "cell_type": "code",
   "execution_count": null,
   "metadata": {},
   "outputs": [],
   "source": [
    "def make_stack(x):\n",
    "    result=''\n",
    "    x_list=list(x)\n",
    "    stack=[]\n",
    "    for n,i in enumerate(x_list):\n",
    "        if i == \"(\"or i == \"+\"or i == \"-\"or i==\"*\"or i==\"/\":\n",
    "            stack.append(i)\n",
    "            #print(stack)\n",
    "        elif i == \")\":\n",
    "            result+=stack[-1]\n",
    "            del stack[-2]\n",
    "            del stack[-1]\n",
    "        else :\n",
    "            result+=i\n",
    "    if stack:\n",
    "        if stack[-1]==\"-\":\n",
    "            return stack[-1]+result\n",
    "        return result+stack[-1]\n",
    "    return result"
   ]
  },
  {
   "cell_type": "code",
   "execution_count": null,
   "metadata": {},
   "outputs": [],
   "source": [
    "a = \"(((a+7)*(b/c))-(2*d))\"\n",
    "print(make_stack(a))"
   ]
  },
  {
   "cell_type": "code",
   "execution_count": null,
   "metadata": {},
   "outputs": [],
   "source": [
    "def op(x):\n",
    "    x_list = list(x)\n",
    "    stack = []\n",
    "    for i in x_list:\n",
    "        if i == \"+\"or i == \"-\"or i==\"*\"or i==\"/\":\n",
    "            a = int(stack[-1])\n",
    "            b = int(stack[-2])\n",
    "            if i==\"+\":\n",
    "                c = a + b\n",
    "            if i==\"-\":\n",
    "                c = a - b\n",
    "            if i==\"*\":\n",
    "                c = a * b\n",
    "            if i==\"/\":\n",
    "                c = a / b\n",
    "            stack.append(c)\n",
    "        else:\n",
    "            stack.append(i)\n",
    "    return stack[-1]"
   ]
  },
  {
   "cell_type": "code",
   "execution_count": null,
   "metadata": {},
   "outputs": [],
   "source": [
    "b = \"(2+3)*7\"\n",
    "print(op(make_stack(b)))"
   ]
  },
  {
   "cell_type": "code",
   "execution_count": null,
   "metadata": {},
   "outputs": [],
   "source": [
    "def SL(x):\n",
    "    x_list = list(x)\n",
    "    stack = []\n",
    "    for i in x_list:\n",
    "        stack.append(i)\n",
    "    for i in range(len(x_list)):\n",
    "        #print(stack)\n",
    "        if x_list[i] == stack[-1]:\n",
    "            del stack[-1]\n",
    "    if stack:\n",
    "        return -1\n",
    "    return \"회문\""
   ]
  },
  {
   "cell_type": "code",
   "execution_count": null,
   "metadata": {},
   "outputs": [],
   "source": [
    "SL(\"wow\")"
   ]
  },
  {
   "cell_type": "markdown",
   "metadata": {
    "collapsed": true
   },
   "source": [
    "# hash"
   ]
  },
  {
   "cell_type": "code",
   "execution_count": null,
   "metadata": {},
   "outputs": [],
   "source": [
    "def create_hash_table(n):\n",
    "    table = [-1]*n\n",
    "    return table\n",
    "\n",
    "def add(table, key, value):\n",
    "    if type(key)  == type('a') and len(str(key))>1:\n",
    "        temp = 0\n",
    "        for i in str(temp):\n",
    "            temp=temp+ord(i)\n",
    "        key = temp\n",
    "    hash_table = table\n",
    "    key = int(key)%len(hash_table)\n",
    "    if hash_table[key] != -1:\n",
    "        print(\"충돌\")\n",
    "        pass\n",
    "    else:\n",
    "        hash_table[key] = value\n",
    "\n",
    "def get(table, key):\n",
    "    hash_table = table\n",
    "    key = int(key)%len(hash_table)\n",
    "    if hash_table[key] ==-1:\n",
    "        print(\"값이 존재하지 않습니다.\")\n",
    "    else:\n",
    "        return hash_table[key]\n",
    "\n",
    "hash_list = create_hash_table(10)"
   ]
  },
  {
   "cell_type": "code",
   "execution_count": null,
   "metadata": {},
   "outputs": [],
   "source": [
    "add(hash_list,\"asda\",'a')\n",
    "add(hash_list,\"asda\",'a')"
   ]
  },
  {
   "cell_type": "code",
   "execution_count": null,
   "metadata": {},
   "outputs": [],
   "source": [
    "get(hash_list,5123123)"
   ]
  },
  {
   "cell_type": "markdown",
   "metadata": {
    "collapsed": true
   },
   "source": [
    "# Graph - dijkstra"
   ]
  },
  {
   "cell_type": "code",
   "execution_count": 15,
   "metadata": {},
   "outputs": [],
   "source": [
    "import sys"
   ]
  },
  {
   "cell_type": "code",
   "execution_count": 16,
   "metadata": {},
   "outputs": [],
   "source": [
    "def min_(graph):\n",
    "    min_v = -1\n",
    "    for edge in graph:\n",
    "        if edge > 0:\n",
    "            if min_v == -1:\n",
    "                min_v = edge\n",
    "            else :\n",
    "                if min_v > edge:\n",
    "                    min_v = edge            \n",
    "    return graph.index(min_v)"
   ]
  },
  {
   "cell_type": "code",
   "execution_count": 17,
   "metadata": {},
   "outputs": [],
   "source": [
    "graph0 = [0,2,0,0,0,9]\n",
    "graph1 = [0,0,8,15,0,6]\n",
    "graph2 = [0,0,0,1,0,0]\n",
    "graph3 = [0,0,0,0,0,0]\n",
    "graph4 = [0,0,7,3,0,0]\n",
    "graph5 = [0,0,0,0,3,0]\n",
    "graphs = [graph0,graph1,graph2,graph3,graph4,graph5]"
   ]
  },
  {
   "cell_type": "code",
   "execution_count": 18,
   "metadata": {},
   "outputs": [
    {
     "data": {
      "text/plain": [
       "[[0, 2, 0, 0, 0, 9],\n",
       " [0, 0, 8, 15, 0, 6],\n",
       " [0, 0, 0, 1, 0, 0],\n",
       " [0, 0, 0, 0, 0, 0],\n",
       " [0, 0, 7, 3, 0, 0],\n",
       " [0, 0, 0, 0, 3, 0]]"
      ]
     },
     "execution_count": 18,
     "metadata": {},
     "output_type": "execute_result"
    }
   ],
   "source": [
    "graphs"
   ]
  },
  {
   "cell_type": "code",
   "execution_count": 19,
   "metadata": {},
   "outputs": [],
   "source": [
    "def make_dijkstra(graphs):\n",
    "    distance=[0]*6\n",
    "    predecessor=[-1]*6 \n",
    "    allow = -1\n",
    "    for index_g,graph in enumerate(graphs[:-1]):\n",
    "        if not sum(distance):\n",
    "            for index_v,value in enumerate(graph):\n",
    "                if value > 0:\n",
    "                    distance[index_v] = value\n",
    "                    predecessor[index_v] = index_g\n",
    "\n",
    "            distance_copy = distance.copy()\n",
    "        else:\n",
    "            dis_min=min_(distance_copy)\n",
    "            allow = dis_min\n",
    "            for index_v, value in enumerate(graphs[dis_min]):\n",
    "                if value > 0:\n",
    "                    distance[index_v] = distance[dis_min]+ value\n",
    "                    distance_copy[index_v] = distance[dis_min]+ value\n",
    "                    predecessor[index_v] = dis_min\n",
    "            distance_copy[allow] = sys.maxsize\n",
    "    return distance,predecessor"
   ]
  },
  {
   "cell_type": "code",
   "execution_count": 20,
   "metadata": {},
   "outputs": [],
   "source": [
    "d,p = make_dijkstra(graphs)"
   ]
  },
  {
   "cell_type": "code",
   "execution_count": 22,
   "metadata": {},
   "outputs": [
    {
     "data": {
      "text/plain": [
       "[0, 2, 10, 11, 11, 8]"
      ]
     },
     "execution_count": 22,
     "metadata": {},
     "output_type": "execute_result"
    }
   ],
   "source": [
    "d"
   ]
  },
  {
   "cell_type": "code",
   "execution_count": 23,
   "metadata": {},
   "outputs": [
    {
     "data": {
      "text/plain": [
       "[-1, 0, 1, 2, 5, 1]"
      ]
     },
     "execution_count": 23,
     "metadata": {},
     "output_type": "execute_result"
    }
   ],
   "source": [
    "p"
   ]
  },
  {
   "cell_type": "code",
   "execution_count": 24,
   "metadata": {},
   "outputs": [],
   "source": [
    "def path_(predecessor, goal, start):\n",
    "    while(start != goal):\n",
    "        print(\"v\"+str(goal))\n",
    "        goal=predecessor[goal]\n",
    "    print(\"v\"+str(goal))"
   ]
  },
  {
   "cell_type": "code",
   "execution_count": 25,
   "metadata": {},
   "outputs": [
    {
     "name": "stdout",
     "output_type": "stream",
     "text": [
      "start: 0, goal: 0\n",
      "v0\n",
      "start: 0, goal: 1\n",
      "v1\n",
      "v0\n",
      "start: 0, goal: 2\n",
      "v2\n",
      "v1\n",
      "v0\n",
      "start: 0, goal: 3\n",
      "v3\n",
      "v2\n",
      "v1\n",
      "v0\n",
      "start: 0, goal: 4\n",
      "v4\n",
      "v5\n",
      "v1\n",
      "v0\n",
      "start: 0, goal: 5\n",
      "v5\n",
      "v1\n",
      "v0\n"
     ]
    }
   ],
   "source": [
    "for i in range(len(p)):\n",
    "    print('start: 0, goal: '+str(i))\n",
    "    path_(p,i,0)"
   ]
  },
  {
   "cell_type": "code",
   "execution_count": null,
   "metadata": {},
   "outputs": [],
   "source": []
  }
 ],
 "metadata": {
  "kernelspec": {
   "display_name": "Python [default]",
   "language": "python",
   "name": "python3"
  },
  "language_info": {
   "codemirror_mode": {
    "name": "ipython",
    "version": 3
   },
   "file_extension": ".py",
   "mimetype": "text/x-python",
   "name": "python",
   "nbconvert_exporter": "python",
   "pygments_lexer": "ipython3",
   "version": "3.6.5"
  }
 },
 "nbformat": 4,
 "nbformat_minor": 2
}
